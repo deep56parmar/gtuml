{
 "cells": [
  {
   "cell_type": "code",
   "execution_count": 64,
   "metadata": {},
   "outputs": [],
   "source": [
    "import numpy as np\n",
    "import pandas as pd\n",
    "import sklearn"
   ]
  },
  {
   "cell_type": "code",
   "execution_count": 65,
   "metadata": {},
   "outputs": [],
   "source": [
    "from sklearn.datasets import load_boston\n",
    "from sklearn.model_selection import train_test_split\n",
    "from sklearn.linear_model import LinearRegression\n",
    "from sklearn.preprocessing import MinMaxScaler\n",
    "from sklearn.metrics import confusion_matrix, classification_report"
   ]
  },
  {
   "cell_type": "code",
   "execution_count": 66,
   "metadata": {},
   "outputs": [],
   "source": [
    "housing_data = load_boston()"
   ]
  },
  {
   "cell_type": "code",
   "execution_count": 67,
   "metadata": {},
   "outputs": [],
   "source": [
    "# print(housing_data.DESCR)"
   ]
  },
  {
   "cell_type": "code",
   "execution_count": 68,
   "metadata": {},
   "outputs": [
    {
     "name": "stdout",
     "output_type": "stream",
     "text": [
      "      CRIM    ZN  INDUS  CHAS    NOX     RM   AGE     DIS  RAD    TAX  \\\n",
      "0  0.00632  18.0   2.31   0.0  0.538  6.575  65.2  4.0900  1.0  296.0   \n",
      "1  0.02731   0.0   7.07   0.0  0.469  6.421  78.9  4.9671  2.0  242.0   \n",
      "2  0.02729   0.0   7.07   0.0  0.469  7.185  61.1  4.9671  2.0  242.0   \n",
      "3  0.03237   0.0   2.18   0.0  0.458  6.998  45.8  6.0622  3.0  222.0   \n",
      "4  0.06905   0.0   2.18   0.0  0.458  7.147  54.2  6.0622  3.0  222.0   \n",
      "\n",
      "   PTRATIO       B  LSTAT  target  \n",
      "0     15.3  396.90   4.98    24.0  \n",
      "1     17.8  396.90   9.14    21.6  \n",
      "2     17.8  392.83   4.03    34.7  \n",
      "3     18.7  394.63   2.94    33.4  \n",
      "4     18.7  396.90   5.33    36.2  \n"
     ]
    }
   ],
   "source": [
    "df = pd.DataFrame(housing_data.data, columns = housing_data.feature_names)\n",
    "df['target'] = housing_data.target\n",
    "print(df.head())\n",
    "x_train, x_test, y_train, y_test = train_test_split(housing_data.data, housing_data.target)"
   ]
  },
  {
   "cell_type": "code",
   "execution_count": 69,
   "metadata": {},
   "outputs": [
    {
     "data": {
      "text/plain": [
       "LinearRegression(copy_X=True, fit_intercept=True, n_jobs=None, normalize=False)"
      ]
     },
     "execution_count": 69,
     "metadata": {},
     "output_type": "execute_result"
    }
   ],
   "source": [
    "lr = LinearRegression()\n",
    "scaler = MinMaxScaler()\n",
    "scaler.fit(x_train)\n",
    "x_train = scaler.transform(x_train)\n",
    "x_test = scaler.transform(x_test)\n",
    "lr.fit(x_train,y_train)"
   ]
  },
  {
   "cell_type": "code",
   "execution_count": 70,
   "metadata": {},
   "outputs": [
    {
     "name": "stdout",
     "output_type": "stream",
     "text": [
      "Test Set Prediction: [13.45787926 13.71466116 39.54236521 28.84205548  3.13848952 18.8330699\n",
      " 21.75792386 16.22348584 28.44264225 23.49135511 20.38541501 42.2504433\n",
      " 22.59204271 43.88330416 31.94585735 13.30339477 23.21500996 22.42430592\n",
      " 19.97523293 34.90389439 20.42636449 32.26127712 16.95153668 35.63772056\n",
      " 26.5730565  16.3510332  21.78586814 10.71331217  5.93381698 36.35066622\n",
      " 34.43769959 16.26705262 10.37150229 16.19643996 18.20145074 27.96736876\n",
      " 21.18357235 20.69558399 21.70751479 23.89387741 29.81014109 12.11865366\n",
      " 32.84851058 11.9222114  24.46608795  8.09568772 22.43786526 22.4879032\n",
      " 19.00399885  7.02779702 19.11296436 11.9771281  33.99714303 29.00172256\n",
      " 19.874485   26.67810761 15.50048281 24.80875782 14.80921886 25.63339382\n",
      " 18.46663343 30.72549007 31.0035877  22.27555651 20.43680483 23.63273489\n",
      "  7.98023791 15.53559709 26.48662601 18.10343805 24.65839731 41.55659823\n",
      " 22.4172724  21.21031369 33.11363997 25.79793395 33.67278358 11.49791437\n",
      " 25.35549217 18.08798011  8.31868983 17.93375981 26.93602157 16.05138411\n",
      " 20.72713066 16.49760488 20.37433564 19.95351487 25.10646968 18.82140428\n",
      "  6.16507548 13.65503891 30.66072763 11.47381021 33.54288544 27.23697659\n",
      " 23.97135479 15.72398189 40.36558835 16.8443616  31.21336928 16.19439855\n",
      " 12.98449865 12.24536119 19.31054126 21.29991288 17.68748436 19.61656025\n",
      " 15.65746775 27.44348047 17.84257748 20.98344842 27.54148402 20.81642098\n",
      " 18.72736092 24.5000476  17.3484288  17.61079915  8.41237062 12.23072533\n",
      " 25.06505184 26.78266136 19.15549712 10.80604606 25.03001127 16.50519974\n",
      " 11.63063384]\n"
     ]
    }
   ],
   "source": [
    "print('Test Set Prediction: {}'. format(lr.predict(x_test)))"
   ]
  },
  {
   "cell_type": "code",
   "execution_count": 71,
   "metadata": {},
   "outputs": [
    {
     "name": "stdout",
     "output_type": "stream",
     "text": [
      "Test Set Accuracy: 0.76\n"
     ]
    }
   ],
   "source": [
    "print('Test Set Accuracy: {:.2f}'.format(lr.score(x_test, y_test)))"
   ]
  },
  {
   "cell_type": "code",
   "execution_count": 72,
   "metadata": {},
   "outputs": [],
   "source": [
    "# confusion = confusion_matrix(y_test, decision_tree.predict(x_test))\n",
    "# report = classification_report(y_test, decision_tree.predict(x_test), target_names = ['malignant', 'benign'])\n",
    "# print('Confusion matrix: \\n{}'.format(confusion))\n",
    "# print(report)"
   ]
  },
  {
   "cell_type": "code",
   "execution_count": null,
   "metadata": {},
   "outputs": [],
   "source": []
  }
 ],
 "metadata": {
  "kernelspec": {
   "display_name": "Python [conda env:ml_sklearn] *",
   "language": "python",
   "name": "conda-env-ml_sklearn-py"
  },
  "language_info": {
   "codemirror_mode": {
    "name": "ipython",
    "version": 3
   },
   "file_extension": ".py",
   "mimetype": "text/x-python",
   "name": "python",
   "nbconvert_exporter": "python",
   "pygments_lexer": "ipython3",
   "version": "3.7.5"
  }
 },
 "nbformat": 4,
 "nbformat_minor": 2
}
